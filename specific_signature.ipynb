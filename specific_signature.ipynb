{
 "cells": [
  {
   "cell_type": "code",
   "execution_count": null,
   "metadata": {},
   "outputs": [],
   "source": [
    "def annotation_cluster(sample,gene_lists,cluster_name='PAGODA_hc',alpha=0.01):\n",
    "      '''\n",
    "      this function is to get the gene_signature_scores for each cluster \n",
    "      using the (special) gene lists from reference dataset \n",
    "      and compare the gene_signature_scores of each cluster vs all other clusters\n",
    "      \n",
    "      input: \n",
    "      1. sample:h5ad file\n",
    "      2. genelist_name: gene list, not a string\n",
    "      3. genelist_score_name: gene list name, a string, format:''\n",
    "      4. cluster_name: cluster name of annotation in h5ad file, a string. format:''\n",
    "      \n",
    "      output:\n",
    "      dataframe including the pvalue, fdr, reject\n",
    "      \n",
    "      method:\n",
    "      mannwhitneyu test\n",
    "      median\n",
    "      multiple test\n",
    "      \n",
    "      '''\n",
    "      from scipy.stats import mannwhitneyu\n",
    "      import statsmodels.api as sm\n",
    "      from scipy.stats import (ttest_1samp, ttest_rel,ttest_ind,wilcoxon,t as t_dbn)\n",
    "      from statsmodels.stats.multitest import multipletests\n",
    "      \n",
    "      csv_file_path = f'../analysis.d/result/csv/result.csv'\n",
    "      df = {}\n",
    "\n",
    "\n",
    "      \n",
    "      \n",
    "      # calculate the genelist scores\n",
    "      \n",
    "      \n",
    "      ncluster = len(sample.obs[cluster_name].unique())\n",
    "      annotation = sample.obs[cluster_name].unique().tolist()\n",
    "      \n",
    "      for gene_list in gene_lists:\n",
    "            sc.tl.score_genes(sample,gene_lists[gene_list],score_name=str(gene_list),random_state=42)\n",
    "            df[f\"{gene_list}_pval\"] = []  \n",
    "            df[f\"{gene_list}_FDR\"] = []\n",
    "            df[f\"{gene_list}_reject\"] =[]   \n",
    "\n",
    "            for i in annotation:\n",
    "                  cluster_i = sample.obs[sample.obs[cluster_name] == str(i)][str(gene_list)]\n",
    "                  cluster_no_i = sample.obs[sample.obs[cluster_name] != str(i)][str(gene_list)]\n",
    "                  statistic, pvalue = mannwhitneyu(cluster_i,cluster_no_i,alternative='greater',nan_policy='omit') \n",
    "                  \n",
    "                  df[f\"{gene_list}_pval\"].append(pvalue)\n",
    "      \n",
    "            reject, pvals_corrected = multipletests(df[f\"{gene_list}_pval\"],alpha,method='fdr_bh')[0:2]\n",
    "\n",
    "            df[f\"{gene_list}_FDR\"] = pvals_corrected\n",
    "            df[f\"{gene_list}_reject\"] = reject\n",
    "\n",
    "      df = pd.DataFrame(df)\n",
    "\n",
    "      df.set_index(pd.Index(annotation), inplace=True)\n",
    "      df.index.name = 'cluster'\n",
    "      \n",
    "      # save the csv file\n",
    "\n",
    "      df.to_csv(csv_file_path, index=True)\n",
    "      \n",
    "      return df\n"
   ]
  },
  {
   "cell_type": "code",
   "execution_count": null,
   "metadata": {},
   "outputs": [],
   "source": []
  },
  {
   "cell_type": "code",
   "execution_count": null,
   "metadata": {},
   "outputs": [],
   "source": []
  },
  {
   "cell_type": "code",
   "execution_count": null,
   "metadata": {},
   "outputs": [],
   "source": []
  },
  {
   "cell_type": "code",
   "execution_count": null,
   "metadata": {},
   "outputs": [],
   "source": []
  }
 ],
 "metadata": {
  "kernelspec": {
   "display_name": "bioinfo",
   "language": "python",
   "name": "python3"
  },
  "language_info": {
   "name": "python",
   "version": "3.11.3 | packaged by conda-forge | (main, Apr  6 2023, 09:05:00) [Clang 14.0.6 ]"
  },
  "orig_nbformat": 4,
  "vscode": {
   "interpreter": {
    "hash": "8b5abb3aa1d4302b509311a4981a928c947a23694a10475bf054b944f8352016"
   }
  }
 },
 "nbformat": 4,
 "nbformat_minor": 2
}
